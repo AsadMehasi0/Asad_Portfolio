{
 "cells": [
  {
   "cell_type": "markdown",
   "id": "98bf8e4b",
   "metadata": {},
   "source": [
    "<h1><center>Data Science</center></h1>\n",
    "\n",
    "## Why do I love data science?\n",
    "I don't know about you, but I am very indecisive when it becomes to **making uninformed decisions**!\n",
    "\n",
    "Even choosing what clothes to wear becomes a chore, a mundane task that will take me a long time. \n",
    "\n",
    "Wouldn't it be nice to automate this type of tasks and be able to get as much information we can almost instantaneously? \n",
    "\n",
    "This is where data scientist come into play. Through the collection, analysis and interpretation of data, data scientists help improve how humans make decisions and how algorithms optimize outcomes.\n",
    "\n",
    "## Steps of Data Scientists:\n",
    "1. Gathering Data. \n",
    "2. Preparing that Data.\n",
    "3. Choosing a Model.\n",
    "4. Training.\n",
    "5. Evaluation.\n",
    "6. Hyperparameter Tuning.\n",
    "7. Prediction."
   ]
  },
  {
   "cell_type": "markdown",
   "id": "5e6e898a",
   "metadata": {},
   "source": [
    "### 1. Gathering Data\n",
    "The errors made in this stage would only amplify as we progress to latter stages. Make sure to choose the right features and consider types of entries that may initially seem irrelevant too because we run the risk of rendering the model completely ineffective."
   ]
  },
  {
   "cell_type": "markdown",
   "id": "2303b42e",
   "metadata": {},
   "source": [
    "### 2. Preparing that Data\n",
    "This is where we prepare the data by performing Feature Engineering and EDA (Exploratore Data Analyisis).\n",
    "\n",
    "There are 3 types of graphs that we are interested in:\n",
    "1. **Correlation** searches through all pairwise relationship between two quantitative attributes. The visualizations are ranked from most to least linearly correlated based on their Pearson’s correlation score.\n",
    "\n",
    "2. **Distribution** displays univariate histogram distributions of all quantitative attributes. Visualizations are ranked from most to least skewed.\n",
    "\n",
    "3. **Occurence** displays bar charts of counts for all categorical attributes. Visualizations are ranked from most to least uneven across the bars."
   ]
  },
  {
   "cell_type": "markdown",
   "id": "eeba146e",
   "metadata": {},
   "source": [
    "### 3. Choosing a Model\n",
    "This depends on the type of data (continuous, discreet or categorical) and can be split across 3 broad categories: \n",
    "* **Supervised** learning models (labeled data). In such models the outcome is known so we continuously refine the model itself until our output reaches the desired accuracy level. An example is the **linear regression** model\n",
    "* If the outcome is unknown and we need classification to be done then the second category, **unsupervised learning** (unlabeled data), is used. Examples of unsupervised learning include **K-means** and **Apriori** algorithm.\n",
    "* The third category is **reinforcement learning**. It focuses on learning to make better decisions on the basis of trial and error. They are often used in business environments. **The Markov’s decision process** is its example."
   ]
  },
  {
   "cell_type": "markdown",
   "id": "d99076d2",
   "metadata": {},
   "source": [
    "### 4. Training\n",
    "Depending on whether we know the output or not, we split the data into some data to train the model and some to test, so we can measure its performance."
   ]
  },
  {
   "cell_type": "markdown",
   "id": "c41a8bad",
   "metadata": {},
   "source": [
    "### 5, 6, 7. Evaluation, Hyperparameter Tuning and Prediction.\n",
    "Evaluation (testing) of the model is essential for avoiding the ill-effects such as overfitting. If this is successful, then we proceed to improve on the positive results achieved during the evaluation step or/and we may consider a different algorithm. Once we are happy, we proceed to the prediction step and derive insights."
   ]
  }
 ],
 "metadata": {
  "kernelspec": {
   "display_name": "Python 3 (ipykernel)",
   "language": "python",
   "name": "python3"
  },
  "language_info": {
   "codemirror_mode": {
    "name": "ipython",
    "version": 3
   },
   "file_extension": ".py",
   "mimetype": "text/x-python",
   "name": "python",
   "nbconvert_exporter": "python",
   "pygments_lexer": "ipython3",
   "version": "3.8.8"
  }
 },
 "nbformat": 4,
 "nbformat_minor": 5
}
